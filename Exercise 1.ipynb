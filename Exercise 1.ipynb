{
 "cells": [
  {
   "attachments": {},
   "cell_type": "markdown",
   "id": "356143c5",
   "metadata": {},
   "source": [
    "# Processing Student Data with Python"
   ]
  },
  {
   "cell_type": "code",
   "execution_count": 1,
   "id": "9a282aac",
   "metadata": {},
   "outputs": [],
   "source": [
    "import csv\n",
    "\n",
    "def process_students_file(input_file, output_file):\n",
    "    #Read the csv file\n",
    "    with open(input_file, mode='r', newline='') as file:\n",
    "        reader = csv.DictReader(file)\n",
    "        \n",
    "        #Filter Data\n",
    "        filtered_students = []\n",
    "        for row in reader:\n",
    "            if row['Grade'] in ['A', 'B']:\n",
    "                row['Status'] = 'Passed'\n",
    "                filtered_students.append(row)\n",
    "                \n",
    "    #A new csv file\n",
    "    if filtere_students:\n",
    "        with open(output_file, mode='w', newline='') as file:\n",
    "            writer = csv.DicWriter(file, fieldnames=filtered_students[0].keys())\n",
    "            writer.writerheader()\n",
    "            writer.writerrows(filtered_students)\n",
    "            \n",
    "    process_students_file('students.csv','top_students.csv')"
   ]
  },
  {
   "cell_type": "code",
   "execution_count": null,
   "id": "476f5135",
   "metadata": {},
   "outputs": [],
   "source": []
  }
 ],
 "metadata": {
  "kernelspec": {
   "display_name": "Python 3 (ipykernel)",
   "language": "python",
   "name": "python3"
  },
  "language_info": {
   "codemirror_mode": {
    "name": "ipython",
    "version": 3
   },
   "file_extension": ".py",
   "mimetype": "text/x-python",
   "name": "python",
   "nbconvert_exporter": "python",
   "pygments_lexer": "ipython3",
   "version": "3.11.5"
  }
 },
 "nbformat": 4,
 "nbformat_minor": 5
}
